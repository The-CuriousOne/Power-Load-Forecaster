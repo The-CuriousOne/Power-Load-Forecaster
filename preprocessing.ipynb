{
 "cells": [
  {
   "cell_type": "code",
   "execution_count": 12,
   "metadata": {},
   "outputs": [],
   "source": [
    "# Import necessary libraries\n",
    "import pandas as pd\n",
    "from sklearn.preprocessing import MinMaxScaler\n",
    "from sklearn.impute import SimpleImputer\n",
    "import numpy as np"
   ]
  },
  {
   "cell_type": "code",
   "execution_count": 13,
   "metadata": {},
   "outputs": [],
   "source": [
    "# Load datasets\n",
    "energy_data = pd.read_csv('data/energy_dataset.csv')\n",
    "weather_data = pd.read_csv('data/weather_features.csv')"
   ]
  },
  {
   "cell_type": "code",
   "execution_count": 14,
   "metadata": {},
   "outputs": [],
   "source": [
    "# Convert time columns to datetime format with UTC\n",
    "energy_data['time'] = pd.to_datetime(energy_data['time'], utc=True)\n",
    "weather_data['dt_iso'] = pd.to_datetime(weather_data['dt_iso'], utc=True)"
   ]
  },
  {
   "cell_type": "code",
   "execution_count": 15,
   "metadata": {},
   "outputs": [],
   "source": [
    "# Ensure the 'time' and 'dt_iso' columns are sorted\n",
    "energy_data = energy_data.sort_values('time')\n",
    "weather_data = weather_data.sort_values('dt_iso')"
   ]
  },
  {
   "cell_type": "code",
   "execution_count": 16,
   "metadata": {},
   "outputs": [],
   "source": [
    "# Merge datasets on the datetime column (asof merge for time-series data)\n",
    "data = pd.merge_asof(energy_data, weather_data, left_on='time', right_on='dt_iso')"
   ]
  },
  {
   "cell_type": "code",
   "execution_count": 17,
   "metadata": {},
   "outputs": [],
   "source": [
    "# Drop columns with all missing values\n",
    "all_missing_cols = data.columns[data.isnull().all()].tolist()\n",
    "data = data.drop(columns=all_missing_cols)"
   ]
  },
  {
   "cell_type": "code",
   "execution_count": null,
   "metadata": {},
   "outputs": [],
   "source": [
    "# Handle missing values using SimpleImputer (mean strategy)\n",
    "imputer = SimpleImputer(strategy='mean')\n",
    "# Select columns with numeric types for imputation\n",
    "numeric_cols = data.select_dtypes(include=['float64', 'int64']).columns\n",
    "data_imputed = pd.DataFrame(imputer.fit_transform(data[numeric_cols]), columns=numeric_cols)"
   ]
  },
  {
   "cell_type": "code",
   "execution_count": 19,
   "metadata": {},
   "outputs": [],
   "source": [
    "# Add back non-numeric columns (if any were dropped) and re-align the DataFrame\n",
    "non_numeric_cols = data.drop(columns=numeric_cols).columns\n",
    "data_imputed = pd.concat([data_imputed, data[non_numeric_cols].reset_index(drop=True)], axis=1)"
   ]
  },
  {
   "cell_type": "code",
   "execution_count": 20,
   "metadata": {},
   "outputs": [],
   "source": [
    "# Normalize features for QNN using MinMaxScaler\n",
    "scaler = MinMaxScaler()\n",
    "data_imputed[numeric_cols] = scaler.fit_transform(data_imputed[numeric_cols])"
   ]
  },
  {
   "cell_type": "code",
   "execution_count": 21,
   "metadata": {},
   "outputs": [],
   "source": [
    "# Convert the preprocessed data to numpy arrays for QNN input\n",
    "X_qnn = np.array(data_imputed[numeric_cols])"
   ]
  },
  {
   "cell_type": "code",
   "execution_count": 22,
   "metadata": {},
   "outputs": [
    {
     "name": "stdout",
     "output_type": "stream",
     "text": [
      "Preprocessed data shape for QCNN: (35064, 38)\n"
     ]
    }
   ],
   "source": [
    "# Save preprocessed data to CSV\n",
    "data_imputed.to_csv('data_preprocessed_for_qnn.csv', index=False)\n",
    "# Print the shape of the final preprocessed data for QNN\n",
    "print(f\"Preprocessed data shape for QCNN: {X_qnn.shape}\")"
   ]
  }
 ],
 "metadata": {
  "kernelspec": {
   "display_name": "Python 3",
   "language": "python",
   "name": "python3"
  },
  "language_info": {
   "codemirror_mode": {
    "name": "ipython",
    "version": 3
   },
   "file_extension": ".py",
   "mimetype": "text/x-python",
   "name": "python",
   "nbconvert_exporter": "python",
   "pygments_lexer": "ipython3",
   "version": "3.12.3"
  }
 },
 "nbformat": 4,
 "nbformat_minor": 2
}
