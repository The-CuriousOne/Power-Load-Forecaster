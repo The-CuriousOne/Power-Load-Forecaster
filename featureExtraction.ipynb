{
 "cells": [
  {
   "cell_type": "code",
   "execution_count": 12,
   "metadata": {},
   "outputs": [],
   "source": [
    "# Import necessary libraries\n",
    "import pandas as pd\n",
    "from sklearn.model_selection import train_test_split\n",
    "from sklearn.preprocessing import MinMaxScaler"
   ]
  },
  {
   "cell_type": "code",
   "execution_count": 13,
   "metadata": {},
   "outputs": [],
   "source": [
    "# Load preprocessed data\n",
    "data = pd.read_csv('data_preprocessed_for_qnn.csv')"
   ]
  },
  {
   "cell_type": "code",
   "execution_count": 14,
   "metadata": {},
   "outputs": [
    {
     "name": "stdout",
     "output_type": "stream",
     "text": [
      "Columns in the dataset:\n",
      "Index(['generation biomass', 'generation fossil brown coal/lignite',\n",
      "       'generation fossil coal-derived gas', 'generation fossil gas',\n",
      "       'generation fossil hard coal', 'generation fossil oil',\n",
      "       'generation fossil oil shale', 'generation fossil peat',\n",
      "       'generation geothermal', 'generation hydro pumped storage consumption',\n",
      "       'generation hydro run-of-river and poundage',\n",
      "       'generation hydro water reservoir', 'generation marine',\n",
      "       'generation nuclear', 'generation other', 'generation other renewable',\n",
      "       'generation solar', 'generation waste', 'generation wind offshore',\n",
      "       'generation wind onshore', 'forecast solar day ahead',\n",
      "       'forecast wind onshore day ahead', 'total load forecast',\n",
      "       'total load actual', 'price day ahead', 'price actual', 'temp',\n",
      "       'temp_min', 'temp_max', 'pressure', 'humidity', 'wind_speed',\n",
      "       'wind_deg', 'rain_1h', 'rain_3h', 'snow_3h', 'clouds_all', 'weather_id',\n",
      "       'time', 'dt_iso', 'city_name', 'weather_main', 'weather_description',\n",
      "       'weather_icon'],\n",
      "      dtype='object')\n"
     ]
    }
   ],
   "source": [
    "# Print column names to debug\n",
    "print(\"Columns in the dataset:\")\n",
    "print(data.columns)"
   ]
  },
  {
   "cell_type": "code",
   "execution_count": 15,
   "metadata": {},
   "outputs": [],
   "source": [
    "# Updated feature selection list based on actual column names\n",
    "features = [\n",
    "    'generation biomass', 'generation fossil brown coal/lignite', 'generation fossil coal-derived gas',\n",
    "    'generation fossil gas', 'generation fossil hard coal', 'generation fossil oil', 'generation fossil oil shale',\n",
    "    'generation fossil peat', 'generation geothermal', 'generation hydro pumped storage consumption',\n",
    "    'generation hydro run-of-river and poundage', 'generation hydro water reservoir', 'generation marine',\n",
    "    'generation nuclear', 'generation other', 'generation other renewable', 'generation solar', 'generation waste',\n",
    "    'generation wind offshore', 'generation wind onshore', 'forecast solar day ahead', 'forecast wind onshore day ahead',\n",
    "    'total load forecast', 'price day ahead'\n",
    "]"
   ]
  },
  {
   "cell_type": "code",
   "execution_count": 16,
   "metadata": {},
   "outputs": [],
   "source": [
    "# Check if all features are present in the dataset\n",
    "missing_features = [feature for feature in features if feature not in data.columns]\n",
    "if missing_features:\n",
    "    raise KeyError(f\"Missing columns in the dataset: {missing_features}\")"
   ]
  },
  {
   "cell_type": "code",
   "execution_count": 17,
   "metadata": {},
   "outputs": [],
   "source": [
    "# Prepare feature matrix and target variable\n",
    "X = data[features]\n",
    "y = data['total load actual']\n",
    "\n",
    "# Normalize features\n",
    "scaler = MinMaxScaler()\n",
    "X_scaled = scaler.fit_transform(X)"
   ]
  },
  {
   "cell_type": "code",
   "execution_count": 18,
   "metadata": {},
   "outputs": [],
   "source": [
    "# Ensure the dataset has at least 35,000 rows for a valid split\n",
    "if len(data) < 35000:\n",
    "    raise ValueError(\"The dataset must have at least 35,000 rows to create training and testing sets with the desired sizes.\")\n"
   ]
  },
  {
   "cell_type": "code",
   "execution_count": 19,
   "metadata": {},
   "outputs": [],
   "source": [
    "# Split the data into training, validation, and testing sets\n",
    "X_temp, X_test, y_temp, y_test = train_test_split(X_scaled, y, test_size=5260, random_state=42)  # 15% for testing\n",
    "X_train, X_val, y_train, y_val = train_test_split(X_temp, y_temp, train_size=24544, random_state=42)  # 70% for training"
   ]
  },
  {
   "cell_type": "code",
   "execution_count": 20,
   "metadata": {},
   "outputs": [],
   "source": [
    "# Convert the split data into DataFrames\n",
    "X_train_df = pd.DataFrame(X_train, columns=features)\n",
    "X_val_df = pd.DataFrame(X_val, columns=features)\n",
    "X_test_df = pd.DataFrame(X_test, columns=features)\n",
    "y_train_df = pd.DataFrame(y_train, columns=['total load actual'])\n",
    "y_val_df = pd.DataFrame(y_val, columns=['total load actual'])\n",
    "y_test_df = pd.DataFrame(y_test, columns=['total load actual'])"
   ]
  },
  {
   "cell_type": "code",
   "execution_count": 21,
   "metadata": {},
   "outputs": [],
   "source": [
    "# Save the training, validation, and testing datasets to CSV files\n",
    "X_train_df.to_csv('X_train.csv', index=False)\n",
    "X_val_df.to_csv('X_val.csv', index=False)\n",
    "X_test_df.to_csv('X_test.csv', index=False)\n",
    "y_train_df.to_csv('y_train.csv', index=False)\n",
    "y_val_df.to_csv('y_val.csv', index=False)\n",
    "y_test_df.to_csv('y_test.csv', index=False)"
   ]
  },
  {
   "cell_type": "code",
   "execution_count": 22,
   "metadata": {},
   "outputs": [
    {
     "name": "stdout",
     "output_type": "stream",
     "text": [
      "X_train shape: (24544, 24)\n",
      "X_val shape: (5260, 24)\n",
      "X_test shape: (5260, 24)\n",
      "y_train shape: (24544, 1)\n",
      "y_val shape: (5260, 1)\n",
      "y_test shape: (5260, 1)\n"
     ]
    }
   ],
   "source": [
    "# Print shapes of the splits\n",
    "print(f\"X_train shape: {X_train_df.shape}\")\n",
    "print(f\"X_val shape: {X_val_df.shape}\")\n",
    "print(f\"X_test shape: {X_test_df.shape}\")\n",
    "print(f\"y_train shape: {y_train_df.shape}\")\n",
    "print(f\"y_val shape: {y_val_df.shape}\")\n",
    "print(f\"y_test shape: {y_test_df.shape}\")"
   ]
  }
 ],
 "metadata": {
  "kernelspec": {
   "display_name": "Python 3",
   "language": "python",
   "name": "python3"
  },
  "language_info": {
   "codemirror_mode": {
    "name": "ipython",
    "version": 3
   },
   "file_extension": ".py",
   "mimetype": "text/x-python",
   "name": "python",
   "nbconvert_exporter": "python",
   "pygments_lexer": "ipython3",
   "version": "3.12.3"
  }
 },
 "nbformat": 4,
 "nbformat_minor": 2
}
